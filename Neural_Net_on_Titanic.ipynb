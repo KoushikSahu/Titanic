{
  "nbformat": 4,
  "nbformat_minor": 0,
  "metadata": {
    "colab": {
      "name": "Neural Net on Titanic.ipynb",
      "provenance": [],
      "collapsed_sections": []
    },
    "kernelspec": {
      "name": "python3",
      "display_name": "Python 3"
    },
    "accelerator": "GPU"
  },
  "cells": [
    {
      "cell_type": "code",
      "metadata": {
        "id": "0L1_mRDjXicd",
        "colab_type": "code",
        "outputId": "1ed9584d-3b3a-4567-eea3-bd3f2465648d",
        "colab": {
          "base_uri": "https://localhost:8080/",
          "height": 121
        }
      },
      "source": [
        "from google.colab import drive\n",
        "drive.mount('/content/drive')"
      ],
      "execution_count": 1,
      "outputs": [
        {
          "output_type": "stream",
          "text": [
            "Go to this URL in a browser: https://accounts.google.com/o/oauth2/auth?client_id=947318989803-6bn6qk8qdgf4n4g3pfee6491hc0brc4i.apps.googleusercontent.com&redirect_uri=urn%3aietf%3awg%3aoauth%3a2.0%3aoob&response_type=code&scope=email%20https%3a%2f%2fwww.googleapis.com%2fauth%2fdocs.test%20https%3a%2f%2fwww.googleapis.com%2fauth%2fdrive%20https%3a%2f%2fwww.googleapis.com%2fauth%2fdrive.photos.readonly%20https%3a%2f%2fwww.googleapis.com%2fauth%2fpeopleapi.readonly\n",
            "\n",
            "Enter your authorization code:\n",
            "··········\n",
            "Mounted at /content/drive\n"
          ],
          "name": "stdout"
        }
      ]
    },
    {
      "cell_type": "code",
      "metadata": {
        "id": "xfQQYbcwWttU",
        "colab_type": "code",
        "colab": {}
      },
      "source": [
        "import torch\n",
        "import torch.nn as nn\n",
        "import torch.nn.functional as F\n",
        "import torch.optim as optim\n",
        "from tqdm import tqdm\n",
        "import random\n",
        "import matplotlib.pyplot as plt\n",
        "import pathlib\n",
        "import pickle"
      ],
      "execution_count": 0,
      "outputs": []
    },
    {
      "cell_type": "code",
      "metadata": {
        "id": "futn_6UTXg55",
        "colab_type": "code",
        "colab": {}
      },
      "source": [
        "path = pathlib.Path('./drive/My Drive/Kaggle/Titanic')"
      ],
      "execution_count": 0,
      "outputs": []
    },
    {
      "cell_type": "code",
      "metadata": {
        "id": "bTnhl1IoYXvc",
        "colab_type": "code",
        "colab": {}
      },
      "source": [
        "with open(path/'feature_tensor.pickle', 'rb') as f:\n",
        "    features = pickle.load(f)\n",
        "\n",
        "with open(path/'label_tensor.pickle', 'rb') as f:\n",
        "    labels = pickle.load(f)"
      ],
      "execution_count": 0,
      "outputs": []
    },
    {
      "cell_type": "code",
      "metadata": {
        "id": "emD-40vphG1o",
        "colab_type": "code",
        "colab": {}
      },
      "source": [
        "features = features.float()\n",
        "labels = labels.float()"
      ],
      "execution_count": 0,
      "outputs": []
    },
    {
      "cell_type": "code",
      "metadata": {
        "id": "uG3ph6j4dr-n",
        "colab_type": "code",
        "colab": {}
      },
      "source": [
        "import math\n",
        "valid_size = -1 * math.floor(0.2*len(features))\n",
        "\n",
        "train_features = features[:valid_size]\n",
        "valid_features = features[valid_size:]\n",
        "\n",
        "train_labels = labels[:valid_size]\n",
        "valid_labels = labels[valid_size:]"
      ],
      "execution_count": 0,
      "outputs": []
    },
    {
      "cell_type": "code",
      "metadata": {
        "id": "z2NzFlRkYrUw",
        "colab_type": "code",
        "cellView": "both",
        "colab": {}
      },
      "source": [
        "class Model(nn.Module):\n",
        "    def __init__(self):\n",
        "        super().__init__()\n",
        "        self.h_l1=nn.Linear(18,10)\n",
        "        self.h_bn1 = nn.BatchNorm1d(10)\n",
        "        # self.h_l2 = nn.Linear(10, 6)\n",
        "        # self.h_bn2 = nn.BatchNorm1d(64)\n",
        "        self.o_l = nn.Linear(10, 2)\n",
        "\n",
        "    def forward(self, x):\n",
        "        # x = F.relu(self.h_l1(x))\n",
        "        x = self.h_bn1(F.relu(self.h_l1(x)))\n",
        "        # x = F.relu(self.h_l2(x))\n",
        "        # x = self.h_bn2(F.relu(self.h_l2(x)))\n",
        "        return self.o_l(x) "
      ],
      "execution_count": 0,
      "outputs": []
    },
    {
      "cell_type": "code",
      "metadata": {
        "id": "qkZAHZAJa1dX",
        "colab_type": "code",
        "colab": {}
      },
      "source": [
        "model = Model()"
      ],
      "execution_count": 0,
      "outputs": []
    },
    {
      "cell_type": "code",
      "metadata": {
        "id": "6D_EuWALa3tm",
        "colab_type": "code",
        "outputId": "022c4a13-db0e-4783-c401-52bcb2557bc8",
        "colab": {
          "base_uri": "https://localhost:8080/",
          "height": 101
        }
      },
      "source": [
        "model"
      ],
      "execution_count": 9,
      "outputs": [
        {
          "output_type": "execute_result",
          "data": {
            "text/plain": [
              "Model(\n",
              "  (h_l1): Linear(in_features=18, out_features=10, bias=True)\n",
              "  (h_bn1): BatchNorm1d(10, eps=1e-05, momentum=0.1, affine=True, track_running_stats=True)\n",
              "  (o_l): Linear(in_features=10, out_features=2, bias=True)\n",
              ")"
            ]
          },
          "metadata": {
            "tags": []
          },
          "execution_count": 9
        }
      ]
    },
    {
      "cell_type": "code",
      "metadata": {
        "id": "1-Tgco7YdQ4q",
        "colab_type": "code",
        "outputId": "51439639-4ece-40ab-9431-397032ddda70",
        "colab": {
          "base_uri": "https://localhost:8080/",
          "height": 101
        }
      },
      "source": [
        "model.to('cuda')"
      ],
      "execution_count": 10,
      "outputs": [
        {
          "output_type": "execute_result",
          "data": {
            "text/plain": [
              "Model(\n",
              "  (h_l1): Linear(in_features=18, out_features=10, bias=True)\n",
              "  (h_bn1): BatchNorm1d(10, eps=1e-05, momentum=0.1, affine=True, track_running_stats=True)\n",
              "  (o_l): Linear(in_features=10, out_features=2, bias=True)\n",
              ")"
            ]
          },
          "metadata": {
            "tags": []
          },
          "execution_count": 10
        }
      ]
    },
    {
      "cell_type": "code",
      "metadata": {
        "id": "Qney6UdNbMB7",
        "colab_type": "code",
        "colab": {}
      },
      "source": [
        "loss_fn = nn.MSELoss()"
      ],
      "execution_count": 0,
      "outputs": []
    },
    {
      "cell_type": "code",
      "metadata": {
        "id": "wlQB1zui0dRE",
        "colab_type": "code",
        "colab": {}
      },
      "source": [
        "def train(epoch, lr=0.001, batch_size=10, plot_loss=True):\n",
        "    optimizer = optim.Adam(model.parameters(), weight_decay=1e-2, lr=lr)\n",
        "    loss = []\n",
        "    for EPOCH in range(0, epoch):\n",
        "        for i in range(0, len(train_features), batch_size):\n",
        "            train_feature_batch = train_features[i:i+batch_size,:].to('cuda')\n",
        "            train_label_batch = train_labels[i:i+batch_size,:].to('cuda')\n",
        "            validity_index = random.randint(0,len(valid_features)-10)\n",
        "            valid_feature_batch = valid_features[validity_index:validity_index+batch_size,:].to('cuda')\n",
        "            valid_label_batch = valid_labels[validity_index:validity_index+batch_size,:].to('cuda')\n",
        "            train_loss = loss_fn(model(train_feature_batch), train_label_batch)\n",
        "            loss.append(train_loss)\n",
        "            with torch.no_grad():\n",
        "                valid_loss = loss_fn(model(valid_feature_batch), valid_label_batch)\n",
        "            optimizer.zero_grad()\n",
        "            train_loss.backward()\n",
        "            optimizer.step()\n",
        "        print(f\"Epoch : {EPOCH+1}\\tTrain Loss : {train_loss}\\tValid Loss : {valid_loss}\")\n",
        "    if plot_loss:\n",
        "        plt.plot(loss)\n",
        "        plt.show()"
      ],
      "execution_count": 0,
      "outputs": []
    },
    {
      "cell_type": "code",
      "metadata": {
        "id": "eKjDbvNZ5uI8",
        "colab_type": "code",
        "outputId": "ea13efe2-b732-4692-e4d8-5effdf4b9aa8",
        "colab": {
          "base_uri": "https://localhost:8080/",
          "height": 601
        }
      },
      "source": [
        "train(20)"
      ],
      "execution_count": 13,
      "outputs": [
        {
          "output_type": "stream",
          "text": [
            "Epoch : 1\tTrain Loss : 0.41431283950805664\tValid Loss : 0.5997177362442017\n",
            "Epoch : 2\tTrain Loss : 0.3166104257106781\tValid Loss : 0.4942118525505066\n",
            "Epoch : 3\tTrain Loss : 0.2462013214826584\tValid Loss : 0.2280861884355545\n",
            "Epoch : 4\tTrain Loss : 0.2130005806684494\tValid Loss : 0.2116510421037674\n",
            "Epoch : 5\tTrain Loss : 0.21212612092494965\tValid Loss : 0.14308904111385345\n",
            "Epoch : 6\tTrain Loss : 0.21700699627399445\tValid Loss : 0.18765313923358917\n",
            "Epoch : 7\tTrain Loss : 0.22039633989334106\tValid Loss : 0.3388059139251709\n",
            "Epoch : 8\tTrain Loss : 0.22850008308887482\tValid Loss : 0.11912981420755386\n",
            "Epoch : 9\tTrain Loss : 0.22799526154994965\tValid Loss : 0.16027860343456268\n",
            "Epoch : 10\tTrain Loss : 0.22838492691516876\tValid Loss : 0.130706325173378\n",
            "Epoch : 11\tTrain Loss : 0.22712580859661102\tValid Loss : 0.17976975440979004\n",
            "Epoch : 12\tTrain Loss : 0.22670646011829376\tValid Loss : 0.13536623120307922\n",
            "Epoch : 13\tTrain Loss : 0.228249192237854\tValid Loss : 0.11441166698932648\n",
            "Epoch : 14\tTrain Loss : 0.2284448891878128\tValid Loss : 0.11802695691585541\n",
            "Epoch : 15\tTrain Loss : 0.22880280017852783\tValid Loss : 0.09094685316085815\n",
            "Epoch : 16\tTrain Loss : 0.22909994423389435\tValid Loss : 0.12648524343967438\n",
            "Epoch : 17\tTrain Loss : 0.2287442535161972\tValid Loss : 0.12963280081748962\n",
            "Epoch : 18\tTrain Loss : 0.22855371236801147\tValid Loss : 0.25370514392852783\n",
            "Epoch : 19\tTrain Loss : 0.22974669933319092\tValid Loss : 0.1873074620962143\n",
            "Epoch : 20\tTrain Loss : 0.2297682911157608\tValid Loss : 0.17140018939971924\n"
          ],
          "name": "stdout"
        },
        {
          "output_type": "display_data",
          "data": {
            "image/png": "[encoded data removed]",
            "text/plain": [
              "<Figure size 432x288 with 1 Axes>"
            ]
          },
          "metadata": {
            "tags": []
          }
        }
      ]
    },
    {
      "cell_type": "code",
      "metadata": {
        "id": "m8lxfAS5IGBG",
        "colab_type": "code",
        "colab": {
          "base_uri": "https://localhost:8080/",
          "height": 101
        },
        "outputId": "a5747bbe-a0c2-40f6-bfe3-3d182adab6ee"
      },
      "source": [
        "model.to('cpu')"
      ],
      "execution_count": 14,
      "outputs": [
        {
          "output_type": "execute_result",
          "data": {
            "text/plain": [
              "Model(\n",
              "  (h_l1): Linear(in_features=18, out_features=10, bias=True)\n",
              "  (h_bn1): BatchNorm1d(10, eps=1e-05, momentum=0.1, affine=True, track_running_stats=True)\n",
              "  (o_l): Linear(in_features=10, out_features=2, bias=True)\n",
              ")"
            ]
          },
          "metadata": {
            "tags": []
          },
          "execution_count": 14
        }
      ]
    },
    {
      "cell_type": "code",
      "metadata": {
        "id": "IQKJ2U5qIJPe",
        "colab_type": "code",
        "colab": {}
      },
      "source": [
        "with open(path/'model.pickle', 'wb') as f:\n",
        "    pickle.dump(model, f)"
      ],
      "execution_count": 0,
      "outputs": []
    },
    {
      "cell_type": "code",
      "metadata": {
        "id": "9SAlRcLYIb5v",
        "colab_type": "code",
        "colab": {}
      },
      "source": [
        ""
      ],
      "execution_count": 0,
      "outputs": []
    }
  ]
}