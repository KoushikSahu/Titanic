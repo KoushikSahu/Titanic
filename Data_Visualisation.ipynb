{
  "nbformat": 4,
  "nbformat_minor": 0,
  "metadata": {
    "colab": {
      "name": "Data Visualisation.ipynb",
      "provenance": [],
      "collapsed_sections": []
    },
    "kernelspec": {
      "name": "python3",
      "display_name": "Python 3"
    },
    "accelerator": "GPU"
  },
  "cells": [
    {
      "cell_type": "code",
      "metadata": {
        "id": "qQ8V6Ty_IaYH",
        "colab_type": "code",
        "outputId": "4fc21737-eefa-48c8-e9ec-374a1c8d05ca",
        "colab": {
          "base_uri": "https://localhost:8080/",
          "height": 121
        }
      },
      "source": [
        "from google.colab import drive\n",
        "drive.mount('/content/drive')"
      ],
      "execution_count": 0,
      "outputs": [
        {
          "output_type": "stream",
          "text": [
            "Go to this URL in a browser: https://accounts.google.com/o/oauth2/auth?client_id=947318989803-6bn6qk8qdgf4n4g3pfee6491hc0brc4i.apps.googleusercontent.com&redirect_uri=urn%3aietf%3awg%3aoauth%3a2.0%3aoob&response_type=code&scope=email%20https%3a%2f%2fwww.googleapis.com%2fauth%2fdocs.test%20https%3a%2f%2fwww.googleapis.com%2fauth%2fdrive%20https%3a%2f%2fwww.googleapis.com%2fauth%2fdrive.photos.readonly%20https%3a%2f%2fwww.googleapis.com%2fauth%2fpeopleapi.readonly\n",
            "\n",
            "Enter your authorization code:\n",
            "··········\n",
            "Mounted at /content/drive\n"
          ],
          "name": "stdout"
        }
      ]
    },
    {
      "cell_type": "markdown",
      "metadata": {
        "id": "5eMc9WFnITXE",
        "colab_type": "text"
      },
      "source": [
        "# Matplotlib"
      ]
    },
    {
      "cell_type": "code",
      "metadata": {
        "id": "ndR3jlFQIrVv",
        "colab_type": "code",
        "colab": {}
      },
      "source": [
        "import pandas as pd\n",
        "import matplotlib.pyplot as plt"
      ],
      "execution_count": 0,
      "outputs": []
    },
    {
      "cell_type": "code",
      "metadata": {
        "id": "YRoeiSWdJMh2",
        "colab_type": "code",
        "colab": {}
      },
      "source": [
        "df_train = pd.read_csv('./drive/My Drive/Kaggle/Titanic/train.csv')"
      ],
      "execution_count": 0,
      "outputs": []
    },
    {
      "cell_type": "code",
      "metadata": {
        "id": "ovwsAF-vJbIi",
        "colab_type": "code",
        "outputId": "992dd529-f68a-4d31-85fe-9487a7eafbee",
        "colab": {
          "base_uri": "https://localhost:8080/",
          "height": 195
        }
      },
      "source": [
        "df_train.head()"
      ],
      "execution_count": 0,
      "outputs": [
        {
          "output_type": "execute_result",
          "data": {
            "text/html": [
              "<div>\n",
              "<style scoped>\n",
              "    .dataframe tbody tr th:only-of-type {\n",
              "        vertical-align: middle;\n",
              "    }\n",
              "\n",
              "    .dataframe tbody tr th {\n",
              "        vertical-align: top;\n",
              "    }\n",
              "\n",
              "    .dataframe thead th {\n",
              "        text-align: right;\n",
              "    }\n",
              "</style>\n",
              "<table border=\"1\" class=\"dataframe\">\n",
              "  <thead>\n",
              "    <tr style=\"text-align: right;\">\n",
              "      <th></th>\n",
              "      <th>PassengerId</th>\n",
              "      <th>Survived</th>\n",
              "      <th>Pclass</th>\n",
              "      <th>Name</th>\n",
              "      <th>Sex</th>\n",
              "      <th>Age</th>\n",
              "      <th>SibSp</th>\n",
              "      <th>Parch</th>\n",
              "      <th>Ticket</th>\n",
              "      <th>Fare</th>\n",
              "      <th>Cabin</th>\n",
              "      <th>Embarked</th>\n",
              "    </tr>\n",
              "  </thead>\n",
              "  <tbody>\n",
              "    <tr>\n",
              "      <th>0</th>\n",
              "      <td>1</td>\n",
              "      <td>0</td>\n",
              "      <td>3</td>\n",
              "      <td>Braund, Mr. Owen Harris</td>\n",
              "      <td>male</td>\n",
              "      <td>22.0</td>\n",
              "      <td>1</td>\n",
              "      <td>0</td>\n",
              "      <td>A/5 21171</td>\n",
              "      <td>7.2500</td>\n",
              "      <td>NaN</td>\n",
              "      <td>S</td>\n",
              "    </tr>\n",
              "    <tr>\n",
              "      <th>1</th>\n",
              "      <td>2</td>\n",
              "      <td>1</td>\n",
              "      <td>1</td>\n",
              "      <td>Cumings, Mrs. John Bradley (Florence Briggs Th...</td>\n",
              "      <td>female</td>\n",
              "      <td>38.0</td>\n",
              "      <td>1</td>\n",
              "      <td>0</td>\n",
              "      <td>PC 17599</td>\n",
              "      <td>71.2833</td>\n",
              "      <td>C85</td>\n",
              "      <td>C</td>\n",
              "    </tr>\n",
              "    <tr>\n",
              "      <th>2</th>\n",
              "      <td>3</td>\n",
              "      <td>1</td>\n",
              "      <td>3</td>\n",
              "      <td>Heikkinen, Miss. Laina</td>\n",
              "      <td>female</td>\n",
              "      <td>26.0</td>\n",
              "      <td>0</td>\n",
              "      <td>0</td>\n",
              "      <td>STON/O2. 3101282</td>\n",
              "      <td>7.9250</td>\n",
              "      <td>NaN</td>\n",
              "      <td>S</td>\n",
              "    </tr>\n",
              "    <tr>\n",
              "      <th>3</th>\n",
              "      <td>4</td>\n",
              "      <td>1</td>\n",
              "      <td>1</td>\n",
              "      <td>Futrelle, Mrs. Jacques Heath (Lily May Peel)</td>\n",
              "      <td>female</td>\n",
              "      <td>35.0</td>\n",
              "      <td>1</td>\n",
              "      <td>0</td>\n",
              "      <td>113803</td>\n",
              "      <td>53.1000</td>\n",
              "      <td>C123</td>\n",
              "      <td>S</td>\n",
              "    </tr>\n",
              "    <tr>\n",
              "      <th>4</th>\n",
              "      <td>5</td>\n",
              "      <td>0</td>\n",
              "      <td>3</td>\n",
              "      <td>Allen, Mr. William Henry</td>\n",
              "      <td>male</td>\n",
              "      <td>35.0</td>\n",
              "      <td>0</td>\n",
              "      <td>0</td>\n",
              "      <td>373450</td>\n",
              "      <td>8.0500</td>\n",
              "      <td>NaN</td>\n",
              "      <td>S</td>\n",
              "    </tr>\n",
              "  </tbody>\n",
              "</table>\n",
              "</div>"
            ],
            "text/plain": [
              "   PassengerId  Survived  Pclass  ...     Fare Cabin  Embarked\n",
              "0            1         0       3  ...   7.2500   NaN         S\n",
              "1            2         1       1  ...  71.2833   C85         C\n",
              "2            3         1       3  ...   7.9250   NaN         S\n",
              "3            4         1       1  ...  53.1000  C123         S\n",
              "4            5         0       3  ...   8.0500   NaN         S\n",
              "\n",
              "[5 rows x 12 columns]"
            ]
          },
          "metadata": {
            "tags": []
          },
          "execution_count": 4
        }
      ]
    },
    {
      "cell_type": "code",
      "metadata": {
        "id": "3PS3GmoVJeEA",
        "colab_type": "code",
        "colab": {}
      },
      "source": [
        "total_survived = len(df_train[df_train['Survived']==1])\n",
        "total_death = len(df_train[df_train['Survived']==0])"
      ],
      "execution_count": 0,
      "outputs": []
    },
    {
      "cell_type": "code",
      "metadata": {
        "id": "4b4cXO2SKecg",
        "colab_type": "code",
        "outputId": "8aaf03c9-4472-4fbf-a07b-66e44c6eeda6",
        "colab": {
          "base_uri": "https://localhost:8080/",
          "height": 34
        }
      },
      "source": [
        "total_survived, total_death"
      ],
      "execution_count": 0,
      "outputs": [
        {
          "output_type": "execute_result",
          "data": {
            "text/plain": [
              "(342, 549)"
            ]
          },
          "metadata": {
            "tags": []
          },
          "execution_count": 6
        }
      ]
    },
    {
      "cell_type": "code",
      "metadata": {
        "id": "ZfRMVwPwKm-t",
        "colab_type": "code",
        "outputId": "2a992e08-2965-40df-adb8-af0a10096b71",
        "colab": {
          "base_uri": "https://localhost:8080/",
          "height": 264
        }
      },
      "source": [
        "plt.pie([total_survived, total_death], labels=['survived', 'dead'])\n",
        "plt.legend()\n",
        "plt.title('Survival Plot')\n",
        "plt.show()"
      ],
      "execution_count": 0,
      "outputs": [
        {
          "output_type": "display_data",
          "data": {
            "image/png": "[encoded data removed]",
            "text/plain": [
              "<Figure size 432x288 with 1 Axes>"
            ]
          },
          "metadata": {
            "tags": []
          }
        }
      ]
    },
    {
      "cell_type": "markdown",
      "metadata": {
        "id": "V56JO65FygpU",
        "colab_type": "text"
      },
      "source": [
        "From the pie chart we can infer that majority of the boarders didn't survive the accident."
      ]
    },
    {
      "cell_type": "code",
      "metadata": {
        "id": "ocdpoB_CL67L",
        "colab_type": "code",
        "outputId": "d2f89afa-9804-4ef1-866a-22959175b6e9",
        "colab": {
          "base_uri": "https://localhost:8080/",
          "height": 34
        }
      },
      "source": [
        "df_train['Pclass'].unique()"
      ],
      "execution_count": 0,
      "outputs": [
        {
          "output_type": "execute_result",
          "data": {
            "text/plain": [
              "array([3, 1, 2])"
            ]
          },
          "metadata": {
            "tags": []
          },
          "execution_count": 8
        }
      ]
    },
    {
      "cell_type": "code",
      "metadata": {
        "id": "ukt9Ir_jMEgT",
        "colab_type": "code",
        "outputId": "6ca9c7b2-fc63-42a2-d9e6-d04b6528fc2e",
        "colab": {
          "base_uri": "https://localhost:8080/",
          "height": 34
        }
      },
      "source": [
        "count_1 = count_2 = count_3 = 0\n",
        "\n",
        "for i in df_train['Pclass']:\n",
        "    if i == 1:\n",
        "        count_1 += 1\n",
        "    elif i == 2:\n",
        "        count_2 += 1\n",
        "    elif i == 3:\n",
        "        count_3 += 1\n",
        "\n",
        "count_1_live = count_2_live = count_3_live = 0\n",
        "\n",
        "for survive_status, group in df_train.groupby('Survived'):\n",
        "    if(survive_status == 1):\n",
        "        for i in group['Pclass']:\n",
        "            if i == 1:\n",
        "                count_1_live += 1\n",
        "            elif i == 2:\n",
        "                count_2_live += 1\n",
        "            elif i == 3:\n",
        "                count_3_live += 1\n",
        "\n",
        "count_1, count_2, count_3, count_1_live, count_2_live, count_3_live"
      ],
      "execution_count": 0,
      "outputs": [
        {
          "output_type": "execute_result",
          "data": {
            "text/plain": [
              "(216, 184, 491, 136, 87, 119)"
            ]
          },
          "metadata": {
            "tags": []
          },
          "execution_count": 18
        }
      ]
    },
    {
      "cell_type": "code",
      "metadata": {
        "id": "2-UETynILG7a",
        "colab_type": "code",
        "outputId": "dd1ec93b-bd41-4e27-9155-5af8677a3994",
        "colab": {
          "base_uri": "https://localhost:8080/",
          "height": 295
        }
      },
      "source": [
        "plt.bar(x=[str(1), str(2), str(3)], height=[count_1, count_2, count_3], color='red')\n",
        "plt.bar(x=[str(1), str(2), str(3)], height=[count_1_live, count_2_live, count_3_live], color='green')\n",
        "plt.title('Ticket Class')\n",
        "plt.xlabel('Ticket Class')\n",
        "plt.ylabel('Count')\n",
        "plt.show()"
      ],
      "execution_count": 0,
      "outputs": [
        {
          "output_type": "display_data",
          "data": {
            "image/png": "[encoded data removed]",
            "text/plain": [
              "<Figure size 432x288 with 1 Axes>"
            ]
          },
          "metadata": {
            "tags": []
          }
        }
      ]
    },
    {
      "cell_type": "markdown",
      "metadata": {
        "id": "jOVo2yWQydM8",
        "colab_type": "text"
      },
      "source": [
        "There seems to be a very high death ratio of people 3rd ticket class. 1st class tickets have the highest survival rate. 2nd class tickets have a 50% survival rate."
      ]
    },
    {
      "cell_type": "code",
      "metadata": {
        "id": "l_ymk3Jf0ytj",
        "colab_type": "code",
        "outputId": "085c8c4b-aa6f-4c95-e206-9fde8db781be",
        "colab": {
          "base_uri": "https://localhost:8080/",
          "height": 34
        }
      },
      "source": [
        "male_count = female_count = 0\n",
        "\n",
        "for i in df_train['Sex']:\n",
        "    if i == 'male':\n",
        "        male_count += 1\n",
        "    elif i == 'female':\n",
        "        female_count += 1\n",
        "\n",
        "male_count_live = female_count_live= 0\n",
        "\n",
        "for survive_status, group in df_train.groupby('Survived'):\n",
        "    if(survive_status == 1):\n",
        "        for i in group['Sex']:\n",
        "            if i == 'male':\n",
        "                male_count_live += 1\n",
        "            elif i == 'female':\n",
        "                female_count_live += 1\n",
        "\n",
        "male_count, female_count, male_count_live, female_count_live"
      ],
      "execution_count": 0,
      "outputs": [
        {
          "output_type": "execute_result",
          "data": {
            "text/plain": [
              "(577, 314, 109, 233)"
            ]
          },
          "metadata": {
            "tags": []
          },
          "execution_count": 26
        }
      ]
    },
    {
      "cell_type": "code",
      "metadata": {
        "id": "nCVn-DCF2I8R",
        "colab_type": "code",
        "outputId": "c2ee4481-03fb-4c82-c48e-c110fbe31e2d",
        "colab": {
          "base_uri": "https://localhost:8080/",
          "height": 295
        }
      },
      "source": [
        "plt.bar(x=['male', 'female'], height=[male_count, female_count], color='red')\n",
        "plt.bar(x=['male', 'female'], height=[male_count_live, female_count_live], color='green')\n",
        "plt.title('Gender survival')\n",
        "plt.xlabel('Gender')\n",
        "plt.ylabel('Count')\n",
        "plt.show()"
      ],
      "execution_count": 0,
      "outputs": [
        {
          "output_type": "display_data",
          "data": {
            "image/png": "[encoded data removed]",
            "text/plain": [
              "<Figure size 432x288 with 1 Axes>"
            ]
          },
          "metadata": {
            "tags": []
          }
        }
      ]
    },
    {
      "cell_type": "markdown",
      "metadata": {
        "id": "MhLTTbAV21FJ",
        "colab_type": "text"
      },
      "source": [
        "Female boarders have a extremely high survival rate though there were less number of female boarders in total."
      ]
    },
    {
      "cell_type": "code",
      "metadata": {
        "id": "CRK4t2_-3X7f",
        "colab_type": "code",
        "outputId": "e62e9536-784e-4e8b-cb49-b9bd57b0a6a4",
        "colab": {
          "base_uri": "https://localhost:8080/",
          "height": 264
        }
      },
      "source": [
        "plt.pie([male_count_live, female_count_live, female_count-female_count_live, male_count-male_count_live], labels=['Male Alive', 'Female Alive', 'Female Dead', 'Male Dead'], colors=['cyan', 'blue', 'red', 'orange'])\n",
        "plt.title('Gender Survival')\n",
        "plt.legend()\n",
        "plt.show()"
      ],
      "execution_count": 0,
      "outputs": [
        {
          "output_type": "display_data",
          "data": {
            "image/png": "[encoded data removed]",
            "text/plain": [
              "<Figure size 432x288 with 1 Axes>"
            ]
          },
          "metadata": {
            "tags": []
          }
        }
      ]
    },
    {
      "cell_type": "code",
      "metadata": {
        "id": "Mxxerl9d4Fq7",
        "colab_type": "code",
        "outputId": "88cad3d4-0d56-4e42-ac28-4562dc6a4864",
        "colab": {
          "base_uri": "https://localhost:8080/",
          "height": 279
        }
      },
      "source": [
        "plt.hist(df_train['Age'], [0, 10, 20, 30, 40, 50, 60, 70, 80, 90], color='red', label='Dead')\n",
        "\n",
        "Survived_age = []\n",
        "\n",
        "for name, group in df_train.groupby('Survived'):\n",
        "    if name == 1:\n",
        "        Survived_age = group['Age']\n",
        "\n",
        "plt.hist(Survived_age, [0, 10, 20, 30, 40, 50, 60, 70, 80, 90], color='green', label='Survived')\n",
        "\n",
        "plt.xlabel('Age')\n",
        "plt.ylabel('Count')\n",
        "plt.legend()\n",
        "plt.show()"
      ],
      "execution_count": 0,
      "outputs": [
        {
          "output_type": "display_data",
          "data": {
            "image/png": "[encoded data removed]",
            "text/plain": [
              "<Figure size 432x288 with 1 Axes>"
            ]
          },
          "metadata": {
            "tags": []
          }
        }
      ]
    },
    {
      "cell_type": "code",
      "metadata": {
        "id": "-aIfF8D441Qy",
        "colab_type": "code",
        "outputId": "c0f55bcf-4a49-43f9-cd14-cc39540b173d",
        "colab": {
          "base_uri": "https://localhost:8080/",
          "height": 34
        }
      },
      "source": [
        "max(df_train['Fare'])"
      ],
      "execution_count": 0,
      "outputs": [
        {
          "output_type": "execute_result",
          "data": {
            "text/plain": [
              "512.3292"
            ]
          },
          "metadata": {
            "tags": []
          },
          "execution_count": 37
        }
      ]
    },
    {
      "cell_type": "code",
      "metadata": {
        "id": "Dle-qap17ESY",
        "colab_type": "code",
        "outputId": "56272318-54b4-4262-985f-30d1e8bc4dd7",
        "colab": {
          "base_uri": "https://localhost:8080/",
          "height": 279
        }
      },
      "source": [
        "plt.hist(df_train['Fare'], [0, 50, 100, 150, 200, 250, 300, 350, 400, 450, 500, 550], color='red', label='Dead')\n",
        "\n",
        "Survived_fare = []\n",
        "\n",
        "for name, group in df_train.groupby('Survived'):\n",
        "    if name == 1:\n",
        "        Survived_fare = group['Fare']\n",
        "\n",
        "plt.hist(Survived_fare, [0, 50, 100, 150, 200, 250, 300, 350, 400, 450, 500, 550], color='green', label='Survived')\n",
        "\n",
        "plt.xlabel('Fare')\n",
        "plt.ylabel('Count')\n",
        "plt.legend()\n",
        "plt.show()"
      ],
      "execution_count": 0,
      "outputs": [
        {
          "output_type": "display_data",
          "data": {
            "image/png": "[encoded data removed]",
            "text/plain": [
              "<Figure size 432x288 with 1 Axes>"
            ]
          },
          "metadata": {
            "tags": []
          }
        }
      ]
    },
    {
      "cell_type": "markdown",
      "metadata": {
        "id": "O6ZwJkNn7eMa",
        "colab_type": "text"
      },
      "source": [
        "Nearly everbody who paid high fare for ticket survived. This relation has already been observed in class of ticket."
      ]
    },
    {
      "cell_type": "code",
      "metadata": {
        "id": "8bMygVsD7wCG",
        "colab_type": "code",
        "colab": {}
      },
      "source": [
        ""
      ],
      "execution_count": 0,
      "outputs": []
    }
  ]
}